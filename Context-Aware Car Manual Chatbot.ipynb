{
 "cells": [
  {
   "cell_type": "code",
   "execution_count": null,
   "id": "cc9d76a0",
   "metadata": {},
   "outputs": [],
   "source": [
    "#Run this cell to install the necessary packages\n",
    "import subprocess\n",
    "import pkg_resources\n",
    "\n",
    "def install_if_needed(package, version):\n",
    "    '''Function to ensure that the libraries used are consistent to avoid errors.'''\n",
    "    try:\n",
    "        pkg = pkg_resources.get_distribution(package)\n",
    "        if pkg.version != version:\n",
    "            raise pkg_resources.VersionConflict(pkg, version)\n",
    "    except (pkg_resources.DistributionNotFound, pkg_resources.VersionConflict):\n",
    "        subprocess.check_call([\"pip\", \"install\", f\"{package}=={version}\"])\n",
    "\n",
    "install_if_needed(\"langchain-core\", \"0.3.18\")\n",
    "install_if_needed(\"langchain-openai\", \"0.2.8\")\n",
    "install_if_needed(\"langchain-community\", \"0.3.7\")\n",
    "install_if_needed(\"unstructured\", \"0.14.4\")\n",
    "install_if_needed(\"langchain-chroma\", \"0.1.4\")\n",
    "install_if_needed(\"langchain-text-splitters\", \"0.3.2\")"
   ]
  },
  {
   "cell_type": "code",
   "execution_count": 19,
   "id": "1f412edc",
   "metadata": {},
   "outputs": [],
   "source": [
    "from dotenv import load_dotenv\n",
    "import os\n",
    "load_dotenv()\n",
    "openai_api_key = os.environ[\"OPENAI_API_KEY\"]\n",
    "\n",
    "# Import the required packages\n",
    "from langchain_core.prompts import ChatPromptTemplate\n",
    "from langchain_openai import ChatOpenAI\n",
    "from langchain_community.document_loaders import UnstructuredHTMLLoader\n",
    "from langchain_openai import OpenAIEmbeddings\n",
    "from langchain_core.runnables import RunnablePassthrough\n",
    "from langchain_text_splitters import RecursiveCharacterTextSplitter\n",
    "from langchain_chroma import Chroma"
   ]
  },
  {
   "cell_type": "code",
   "execution_count": 15,
   "id": "730e6619",
   "metadata": {},
   "outputs": [],
   "source": [
    "loader = UnstructuredHTMLLoader(file_path=\"data/mg-zs-warning-messages.html\")\n",
    "car_docs = loader.load()\n"
   ]
  },
  {
   "cell_type": "code",
   "execution_count": 22,
   "id": "d5fe53dc",
   "metadata": {},
   "outputs": [
    {
     "name": "stdout",
     "output_type": "stream",
     "text": [
      "--- Chunk 1 ---\n",
      "page_content='Warning Message Procedure Cruise Control Fault Indicates that the cruise control system has detected a fault. Please consult an MG Authorised Repairer as soon as possible. Active Speed Limiter Fault Indicates that the active speed limit system has detected a fault. Contact an MG Authorised Repairer as soon as possible. Engine Coolant Temperature High High engine coolant temperature could result in severe damage. As soon as conditions permit, safely stop the vehicle and switch off the engine and contact an MG Authorised Repairer immediately. Engine Coolant Temperature Sensor Fault Indicates that the engine coolant temperature sensor has failed. As soon as conditions permit, safely stop the vehicle and switch off the engine and contact an MG Authorised Repairer immediately.' metadata={'source': 'data/mg-zs-warning-messages.html'}\n",
      "\n",
      "--- Chunk 2 ---\n",
      "page_content='Warning Message Procedure Low Oil Pressure Indicates that the oil pressure is too low, which may result in severe engine damage. As soon as safety permits, stop the car, switch off the engine and check the engine oil level. Contact an MG Authorised Repairer as soon as possible. Engine Fault Indicates that a failure has occurred that will effect engine performance and emissions. Contact an MG Authorised Repairer as soon as possible. Check Engine Indicates that a failure has occurred that may severely damage the engine. As soon as conditions permit, safely stop the vehicle , switch off the engine and contact an MG Authorised Repairer immediately.' metadata={'source': 'data/mg-zs-warning-messages.html'}\n",
      "\n",
      "--- Chunk 3 ---\n",
      "page_content='Warning Message Procedure Stop Start System Fault Indicates that the Stop/Start intelligent fuel saving system has detected a fault. Please consult an MG Authorised Repairer as soon as possible. Clutch Switch Fault Indicates that the clutch switch has detected a fault. Please consult an MG Authorised Repairer as soon as possible. Gasoline Particular Filter Full Indicates that the gasoline particular filter is full. Please consult an MG Authorised Repairer as soon as possible. Ignition System Fault Indicates that the ignition system has detected a fault. Please consult an MG Authorised Repairer immediately.' metadata={'source': 'data/mg-zs-warning-messages.html'}\n",
      "\n",
      "--- Chunk 4 ---\n",
      "page_content='Warning Message Procedure Start Stop Button Fault Indicates that the Start Stop button has detected a fault. Please consult an MG Authorised Repairer immediately. Passive Entry Fault Indicates that the passive keyless entry (PKE) function has detected a fault. Please consult an MG Authorised Repairer as soon as possible. ABS Fault Indicates that the anti-lock brake system (ABS) has failed and the ABS function is about to be disabled. Please consult an MG Authorised Repairer immediately.' metadata={'source': 'data/mg-zs-warning-messages.html'}\n",
      "\n",
      "--- Chunk 5 ---\n",
      "page_content='Warning Message Procedure Brake Fault Indicates that the brake fluid could be low or a fault has been detected in the Electronic Brake-force Distribution (EBD) system. As soon as safety permits, stop the car, switch off the engine and check the brake fluid level. Contact an MG Authorised Repairer as soon as possible. Stability Control Fault Indicates that the stability control system has detected a fault. Please consult an MG Authorised Repairer immediately. Traction Control Fault Indicates that the traction control system has detected a fault. Please consult an MG Authorised Repairer immediately.' metadata={'source': 'data/mg-zs-warning-messages.html'}\n",
      "\n",
      "--- Chunk 6 ---\n",
      "page_content='Warning Message Procedure EPB System Fault Indicates that the electronic parking brake system (EPB) has detected a fault. Please consult an MG Authorised Repairer as soon as possible. Park Brake Force Not Enough Indicates that there is an issue with the electronic parking brake, it may not be able to provide adequate clamping force. Contact an MG Authorised Repairer as soon as possible. Autohold Fault Indicates that the Autohold System has detected a fault. Please consult an MG Authorised Repairer as soon as possible. Hill Descent Control Fault Indicates that the hill descent control system has detected a fault. Please consult an MG Authorised Repairer as soon as possible.' metadata={'source': 'data/mg-zs-warning-messages.html'}\n",
      "\n",
      "--- Chunk 7 ---\n",
      "page_content='Warning Message Procedure EPS Performance Reduced Indicates that the electric power steering system has a general failure and that the steering performance has been reduced. As soon as conditions permit, safely stop the vehicle and switch off the engine. After a short while, start the engine, drive the vehicle a short distance and monitor the operation of the steering, if the message is still displayed or the steering assistance reduced please contact an MG Authorised Repairer immediately. EPS Assistance Failure Indicates that the electric power steering system has failed. Please consult an MG Authorised Repairer immediately.' metadata={'source': 'data/mg-zs-warning-messages.html'}\n",
      "\n",
      "--- Chunk 8 ---\n",
      "page_content='Warning Message Procedure Steering Angle Fault Indicates that the steering angle sensor has failed. Please consult an MG Authorised Repairer as soon as possible. Steering Angle Uncalibrated Indicates that the steering angle sensor is not calibrated. Please consult an MG Authorised Repairer as soon as possible. ESCL Fault Indicates that a fault has been detected with the Electronic Steering Column Lock (ESCL). As soon as conditions permit, safely stop the vehicle and switch off the engine. Contact an MG Authorised Repairer as soon as possible. Fuel Sensor Fault Indicates that fuel sensor has detected a fault. Please consult an MG Authorised Repairer as soon as possible.' metadata={'source': 'data/mg-zs-warning-messages.html'}\n",
      "\n",
      "--- Chunk 9 ---\n",
      "page_content='Warning Message Procedure Airbag Fault Indicates that the Airbag system has detected a fault. As soon as conditions permit, safely stop the vehicle and switch off the engine and contact an MG Authorised Repairer immediately. Front Left/Front Right/Rear Left/Rear Right Tyre Sensor Battery Low Indicates that the Tyre Pressure Monitoring system has detected that a tyre pressure sensor has a low battery. Please consult an MG Authorised Repairer as soon as possible. TPMS Fault Indicates that the tyre pressure monitoring system has detected a fault. Please consult an MG Authorised Repairer as soon as possible.\n",
      "\n",
      "Warning Message Procedure 12V Battery Charging System Fault Indicates that the 12V battery charging system has failed. Please consult an MG Authorised Repairer immediately. Rear Drive Assist System Fault Indicates that the rear drive assist system (RDA) has detected a fault. Please consult an MG Authorised Repairer as soon as possible.' metadata={'source': 'data/mg-zs-warning-messages.html'}\n",
      "\n"
     ]
    }
   ],
   "source": [
    "# Initialize RecursiveCharacterTextSplitter to make chunks of HTML text\n",
    "text_splitter = RecursiveCharacterTextSplitter(chunk_size=1000, chunk_overlap=200)\n",
    "splits = text_splitter.split_documents(car_docs)\n",
    "\n",
    "for i, split in enumerate(splits):\n",
    "    print(f\"--- Chunk {i+1} ---\")\n",
    "    print(split)\n",
    "    print()"
   ]
  },
  {
   "cell_type": "code",
   "execution_count": 27,
   "id": "b2669ebb",
   "metadata": {},
   "outputs": [],
   "source": [
    "# Initialize Chroma vectorstore with documents as splits and using OpenAIEmbeddings\n",
    "vectorstore = Chroma.from_documents(documents=splits, embedding=OpenAIEmbeddings(openai_api_key=openai_api_key),persist_directory=\"vectorstore_db\")"
   ]
  },
  {
   "cell_type": "code",
   "execution_count": 28,
   "id": "e10226af",
   "metadata": {},
   "outputs": [],
   "source": [
    "# Setup vectorstore as retriever\n",
    "retriever = vectorstore.as_retriever()"
   ]
  },
  {
   "cell_type": "code",
   "execution_count": 29,
   "id": "9f349a7b",
   "metadata": {},
   "outputs": [
    {
     "name": "stdout",
     "output_type": "stream",
     "text": [
      "Warning Message Procedure Airbag Fault Indicates that the Airbag system has detected a fault. As soon as conditions permit, safely stop the vehicle and switch off the engine and contact an MG Authorised Repairer immediately. Front Left/Front Right/Rear Left/Rear Right Tyre Sensor Battery Low Indicates that the Tyre Pressure Monitoring system has detected that a tyre pressure sensor has a low battery. Please consult an MG Authorised Repairer as soon as possible. TPMS Fault Indicates that the tyre pressure monitoring system has detected a fault. Please consult an MG Authorised Repairer as soon as possible.\n",
      "\n",
      "Warning Message Procedure 12V Battery Charging System Fault Indicates that the 12V battery charging system has failed. Please consult an MG Authorised Repairer immediately. Rear Drive Assist System Fault Indicates that the rear drive assist system (RDA) has detected a fault. Please consult an MG Authorised Repairer as soon as possible.\n",
      "Warning Message Procedure Stop Start System Fault Indicates that the Stop/Start intelligent fuel saving system has detected a fault. Please consult an MG Authorised Repairer as soon as possible. Clutch Switch Fault Indicates that the clutch switch has detected a fault. Please consult an MG Authorised Repairer as soon as possible. Gasoline Particular Filter Full Indicates that the gasoline particular filter is full. Please consult an MG Authorised Repairer as soon as possible. Ignition System Fault Indicates that the ignition system has detected a fault. Please consult an MG Authorised Repairer immediately.\n",
      "Warning Message Procedure Steering Angle Fault Indicates that the steering angle sensor has failed. Please consult an MG Authorised Repairer as soon as possible. Steering Angle Uncalibrated Indicates that the steering angle sensor is not calibrated. Please consult an MG Authorised Repairer as soon as possible. ESCL Fault Indicates that a fault has been detected with the Electronic Steering Column Lock (ESCL). As soon as conditions permit, safely stop the vehicle and switch off the engine. Contact an MG Authorised Repairer as soon as possible. Fuel Sensor Fault Indicates that fuel sensor has detected a fault. Please consult an MG Authorised Repairer as soon as possible.\n",
      "Warning Message Procedure Cruise Control Fault Indicates that the cruise control system has detected a fault. Please consult an MG Authorised Repairer as soon as possible. Active Speed Limiter Fault Indicates that the active speed limit system has detected a fault. Contact an MG Authorised Repairer as soon as possible. Engine Coolant Temperature High High engine coolant temperature could result in severe damage. As soon as conditions permit, safely stop the vehicle and switch off the engine and contact an MG Authorised Repairer immediately. Engine Coolant Temperature Sensor Fault Indicates that the engine coolant temperature sensor has failed. As soon as conditions permit, safely stop the vehicle and switch off the engine and contact an MG Authorised Repairer immediately.\n"
     ]
    }
   ],
   "source": [
    "results = retriever.get_relevant_documents(\"what is the warning message for the MG-ZS car?\")\n",
    "for result in results:\n",
    "    print(result.page_content)"
   ]
  },
  {
   "cell_type": "code",
   "execution_count": 30,
   "id": "5c098dfd",
   "metadata": {},
   "outputs": [],
   "source": [
    "# Define RAG prompt\n",
    "prompt = ChatPromptTemplate.from_template(\"You are an assistant for question-answering tasks. Use the following pieces of retrieved context to answer the question. If you don't know the answer, just say that you don't know. Use three sentences maximum and keep the answer concise.\\nQuestion: {question} \\nContext: {context} \\nAnswer:\")"
   ]
  },
  {
   "cell_type": "code",
   "execution_count": 31,
   "id": "2308511f",
   "metadata": {},
   "outputs": [],
   "source": [
    "model = ChatOpenAI(openai_api_key=openai_api_key, model_name=\"gpt-4o-mini\", temperature=0)\n"
   ]
  },
  {
   "cell_type": "code",
   "execution_count": 32,
   "id": "38b66a02",
   "metadata": {},
   "outputs": [],
   "source": [
    "# Setup the chain\n",
    "rag_chain = (\n",
    "    {\"context\": retriever , \"question\": RunnablePassthrough()}\n",
    "    | prompt\n",
    "    | model\n",
    ")"
   ]
  },
  {
   "cell_type": "code",
   "execution_count": 33,
   "id": "a7d1bcf0",
   "metadata": {},
   "outputs": [],
   "source": [
    "# Initialize query\n",
    "query = \"The Gasoline Particular Filter Full warning has appeared. What does this mean and what should I do about it?\""
   ]
  },
  {
   "cell_type": "code",
   "execution_count": 34,
   "id": "707ab1ef",
   "metadata": {},
   "outputs": [
    {
     "name": "stdout",
     "output_type": "stream",
     "text": [
      "The Gasoline Particular Filter Full warning indicates that the gasoline particulate filter is full. You should consult an MG Authorised Repairer as soon as possible for assistance.\n"
     ]
    }
   ],
   "source": [
    "# Invoke the query\n",
    "answer = rag_chain.invoke(query).content\n",
    "print(answer)"
   ]
  }
 ],
 "metadata": {
  "kernelspec": {
   "display_name": "Python 3",
   "language": "python",
   "name": "python3"
  },
  "language_info": {
   "codemirror_mode": {
    "name": "ipython",
    "version": 3
   },
   "file_extension": ".py",
   "mimetype": "text/x-python",
   "name": "python",
   "nbconvert_exporter": "python",
   "pygments_lexer": "ipython3",
   "version": "3.11.13"
  }
 },
 "nbformat": 4,
 "nbformat_minor": 5
}
